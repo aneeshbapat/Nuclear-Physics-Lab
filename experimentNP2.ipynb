{
 "cells": [
  {
   "cell_type": "code",
   "execution_count": 1,
   "id": "a45d62da",
   "metadata": {},
   "outputs": [],
   "source": [
    "import numpy as np\n",
    "from scipy.optimize import curve_fit,fsolve\n",
    "import matplotlib.pyplot as plt\n",
    "import pandas as pd"
   ]
  },
  {
   "cell_type": "code",
   "execution_count": 2,
   "id": "e93ef642",
   "metadata": {
    "scrolled": false
   },
   "outputs": [
    {
     "name": "stderr",
     "output_type": "stream",
     "text": [
      "C:\\Users\\ambap\\Anaconda3\\lib\\site-packages\\ipykernel_launcher.py:5: RuntimeWarning: divide by zero encountered in true_divide\n",
      "  \"\"\"\n"
     ]
    },
    {
     "data": {
      "image/png": "[encoded data removed]",
      "text/plain": [
       "<Figure size 576x576 with 1 Axes>"
      ]
     },
     "metadata": {
      "needs_background": "light"
     },
     "output_type": "display_data"
    }
   ],
   "source": [
    "#semilogy Plot of f(theta)\n",
    "def f(theta,A,B):\n",
    "    thetarad = np.deg2rad(theta)\n",
    "    Brad = np.deg2rad(B)\n",
    "    return A/(np.sin((thetarad-Brad)/2))**4\n",
    "\n",
    "degrange = np.linspace(-180,180,101)\n",
    "plt.semilogy(degrange,f(degrange,1,0))\n",
    "plt.xlim(-180,180)\n",
    "plt.xticks([-180,-120,-60,0,60,120,180])\n",
    "plt.yticks([1,10,100,1000,10000,100000,1000000],['1','10','100','1000','10000','100000','1000000'])\n",
    "plt.xlabel(r'$\\theta \\ (^\\circ)$',fontsize=15)\n",
    "plt.ylabel(r'$f(\\theta)$',fontsize=15)\n",
    "plt.gcf().set_size_inches(8,8)\n",
    "# plt.savefig('f_vs_theta')\n",
    "plt.show()\n",
    "\n",
    "#Note: To observe the singularity, we need to try to evaluate f(0 degree), which will result in a 'divide by 0' warning\n",
    "#But that is not a problem/no harm."
   ]
  },
  {
   "cell_type": "code",
   "execution_count": 3,
   "id": "372d22f4",
   "metadata": {},
   "outputs": [
    {
     "data": {
      "text/html": [
       "<div>\n",
       "<style scoped>\n",
       "    .dataframe tbody tr th:only-of-type {\n",
       "        vertical-align: middle;\n",
       "    }\n",
       "\n",
       "    .dataframe tbody tr th {\n",
       "        vertical-align: top;\n",
       "    }\n",
       "\n",
       "    .dataframe thead th {\n",
       "        text-align: right;\n",
       "    }\n",
       "</style>\n",
       "<table border=\"1\" class=\"dataframe\">\n",
       "  <thead>\n",
       "    <tr style=\"text-align: right;\">\n",
       "      <th></th>\n",
       "      <th>$\\theta \\ (^\\circ)$</th>\n",
       "      <th>Time (in s)</th>\n",
       "      <th>$N_d$ (1/s)</th>\n",
       "      <th>$\\sigma_{N_d}$ (1/s)</th>\n",
       "    </tr>\n",
       "  </thead>\n",
       "  <tbody>\n",
       "    <tr>\n",
       "      <th>0</th>\n",
       "      <td>0.0</td>\n",
       "      <td>60.0</td>\n",
       "      <td>7.6222</td>\n",
       "      <td>0.205780</td>\n",
       "    </tr>\n",
       "    <tr>\n",
       "      <th>1</th>\n",
       "      <td>5.0</td>\n",
       "      <td>100.0</td>\n",
       "      <td>4.8833</td>\n",
       "      <td>0.127584</td>\n",
       "    </tr>\n",
       "    <tr>\n",
       "      <th>2</th>\n",
       "      <td>10.0</td>\n",
       "      <td>400.0</td>\n",
       "      <td>1.1833</td>\n",
       "      <td>0.031402</td>\n",
       "    </tr>\n",
       "    <tr>\n",
       "      <th>3</th>\n",
       "      <td>15.0</td>\n",
       "      <td>900.0</td>\n",
       "      <td>0.1637</td>\n",
       "      <td>0.007787</td>\n",
       "    </tr>\n",
       "    <tr>\n",
       "      <th>4</th>\n",
       "      <td>-5.0</td>\n",
       "      <td>100.0</td>\n",
       "      <td>0.6033</td>\n",
       "      <td>0.044844</td>\n",
       "    </tr>\n",
       "    <tr>\n",
       "      <th>5</th>\n",
       "      <td>-10.0</td>\n",
       "      <td>400.0</td>\n",
       "      <td>0.1991</td>\n",
       "      <td>0.012881</td>\n",
       "    </tr>\n",
       "    <tr>\n",
       "      <th>6</th>\n",
       "      <td>-15.0</td>\n",
       "      <td>900.0</td>\n",
       "      <td>0.0733</td>\n",
       "      <td>0.005210</td>\n",
       "    </tr>\n",
       "  </tbody>\n",
       "</table>\n",
       "</div>"
      ],
      "text/plain": [
       "   $\\theta \\ (^\\circ)$  Time (in s)  $N_d$ (1/s)  $\\sigma_{N_d}$ (1/s)\n",
       "0                  0.0         60.0       7.6222              0.205780\n",
       "1                  5.0        100.0       4.8833              0.127584\n",
       "2                 10.0        400.0       1.1833              0.031402\n",
       "3                 15.0        900.0       0.1637              0.007787\n",
       "4                 -5.0        100.0       0.6033              0.044844\n",
       "5                -10.0        400.0       0.1991              0.012881\n",
       "6                -15.0        900.0       0.0733              0.005210"
      ]
     },
     "execution_count": 3,
     "metadata": {},
     "output_type": "execute_result"
    }
   ],
   "source": [
    "#Calculating error in Nd\n",
    "Nd = np.array([7.6222,4.8833,1.1833,0.1637,0.6033,0.1991,0.0733])\n",
    "#These values of Nd are copied from the observation table\n",
    "theta = np.array([0,5,10,15,-5,-10,-15]) #degrees\n",
    "times = np.array([60,100,400,900,100,400,900])\n",
    "sigmaNd = np.sqrt(Nd/(3*times)) #numpy library automatically broadcasts the operation over entire array\n",
    "dataarr1 = np.array([theta,times,Nd,sigmaNd]).T #Concatenate all into coulmn array\n",
    "df1 = pd.DataFrame(data = dataarr1,columns = [r'$\\theta \\ (^\\circ)$',r'Time (in s)',r'$N_d$ (1/s)',r'$\\sigma_{N_d}$ (1/s)'])\n",
    "df1"
   ]
  },
  {
   "cell_type": "code",
   "execution_count": 4,
   "id": "4fcd4612",
   "metadata": {},
   "outputs": [
    {
     "data": {
      "text/html": [
       "<div>\n",
       "<style scoped>\n",
       "    .dataframe tbody tr th:only-of-type {\n",
       "        vertical-align: middle;\n",
       "    }\n",
       "\n",
       "    .dataframe tbody tr th {\n",
       "        vertical-align: top;\n",
       "    }\n",
       "\n",
       "    .dataframe thead th {\n",
       "        text-align: right;\n",
       "    }\n",
       "</style>\n",
       "<table border=\"1\" class=\"dataframe\">\n",
       "  <thead>\n",
       "    <tr style=\"text-align: right;\">\n",
       "      <th></th>\n",
       "      <th>$\\theta \\ (^\\circ)$</th>\n",
       "      <th>$N_d$ (1/s)</th>\n",
       "      <th>$\\sigma_{N_d}$ (1/s)</th>\n",
       "      <th>$N$ (1/s)</th>\n",
       "      <th>$\\sigma_{N}$ (1/s)</th>\n",
       "    </tr>\n",
       "  </thead>\n",
       "  <tbody>\n",
       "    <tr>\n",
       "      <th>0</th>\n",
       "      <td>0.0</td>\n",
       "      <td>7.6222</td>\n",
       "      <td>0.205780</td>\n",
       "      <td>15.773602</td>\n",
       "      <td>0.006135</td>\n",
       "    </tr>\n",
       "    <tr>\n",
       "      <th>1</th>\n",
       "      <td>5.0</td>\n",
       "      <td>4.8833</td>\n",
       "      <td>0.127584</td>\n",
       "      <td>10.430123</td>\n",
       "      <td>0.007326</td>\n",
       "    </tr>\n",
       "    <tr>\n",
       "      <th>2</th>\n",
       "      <td>10.0</td>\n",
       "      <td>1.1833</td>\n",
       "      <td>0.031402</td>\n",
       "      <td>2.791388</td>\n",
       "      <td>0.004529</td>\n",
       "    </tr>\n",
       "    <tr>\n",
       "      <th>3</th>\n",
       "      <td>15.0</td>\n",
       "      <td>0.1637</td>\n",
       "      <td>0.007787</td>\n",
       "      <td>0.425969</td>\n",
       "      <td>0.001790</td>\n",
       "    </tr>\n",
       "    <tr>\n",
       "      <th>4</th>\n",
       "      <td>-5.0</td>\n",
       "      <td>0.6033</td>\n",
       "      <td>0.044844</td>\n",
       "      <td>1.379233</td>\n",
       "      <td>0.005238</td>\n",
       "    </tr>\n",
       "    <tr>\n",
       "      <th>5</th>\n",
       "      <td>-10.0</td>\n",
       "      <td>0.1991</td>\n",
       "      <td>0.012881</td>\n",
       "      <td>0.502328</td>\n",
       "      <td>0.002614</td>\n",
       "    </tr>\n",
       "    <tr>\n",
       "      <th>6</th>\n",
       "      <td>-15.0</td>\n",
       "      <td>0.0733</td>\n",
       "      <td>0.005210</td>\n",
       "      <td>0.203734</td>\n",
       "      <td>0.001498</td>\n",
       "    </tr>\n",
       "  </tbody>\n",
       "</table>\n",
       "</div>"
      ],
      "text/plain": [
       "   $\\theta \\ (^\\circ)$  $N_d$ (1/s)  $\\sigma_{N_d}$ (1/s)  $N$ (1/s)  \\\n",
       "0                  0.0       7.6222              0.205780  15.773602   \n",
       "1                  5.0       4.8833              0.127584  10.430123   \n",
       "2                 10.0       1.1833              0.031402   2.791388   \n",
       "3                 15.0       0.1637              0.007787   0.425969   \n",
       "4                 -5.0       0.6033              0.044844   1.379233   \n",
       "5                -10.0       0.1991              0.012881   0.502328   \n",
       "6                -15.0       0.0733              0.005210   0.203734   \n",
       "\n",
       "   $\\sigma_{N}$ (1/s)  \n",
       "0            0.006135  \n",
       "1            0.007326  \n",
       "2            0.004529  \n",
       "3            0.001790  \n",
       "4            0.005238  \n",
       "5            0.002614  \n",
       "6            0.001498  "
      ]
     },
     "execution_count": 4,
     "metadata": {},
     "output_type": "execute_result"
    }
   ],
   "source": [
    "#Correct N(theta values)\n",
    "B = 1.7083 #Calculated by hand, see the graph paper plot and calculation in report\n",
    "N = Nd*2*np.pi**np.sin(np.abs(np.deg2rad(theta-B)))\n",
    "sigmaN = sigmaNd*np.sin(np.abs(np.deg2rad(theta-B)))\n",
    "dataarr2 = np.array([theta,Nd,sigmaNd,N,sigmaN]).T #Concatenate all into coulmn array\n",
    "df2 = pd.DataFrame(data = dataarr2,columns = [r'$\\theta \\ (^\\circ)$',r'$N_d$ (1/s)',r'$\\sigma_{N_d}$ (1/s)',r'$N$ (1/s)',r'$\\sigma_{N}$ (1/s)'])\n",
    "df2"
   ]
  },
  {
   "cell_type": "code",
   "execution_count": 5,
   "id": "fb78d4da",
   "metadata": {},
   "outputs": [
    {
     "data": {
      "text/html": [
       "<div>\n",
       "<style scoped>\n",
       "    .dataframe tbody tr th:only-of-type {\n",
       "        vertical-align: middle;\n",
       "    }\n",
       "\n",
       "    .dataframe tbody tr th {\n",
       "        vertical-align: top;\n",
       "    }\n",
       "\n",
       "    .dataframe thead th {\n",
       "        text-align: right;\n",
       "    }\n",
       "</style>\n",
       "<table border=\"1\" class=\"dataframe\">\n",
       "  <thead>\n",
       "    <tr style=\"text-align: right;\">\n",
       "      <th></th>\n",
       "      <th>$\\theta \\ (^\\circ)$</th>\n",
       "      <th>$f(\\theta-B)$</th>\n",
       "      <th>$N$ (1/s)</th>\n",
       "    </tr>\n",
       "  </thead>\n",
       "  <tbody>\n",
       "    <tr>\n",
       "      <th>0</th>\n",
       "      <td>0.0</td>\n",
       "      <td>2.024969e+07</td>\n",
       "      <td>15.773602</td>\n",
       "    </tr>\n",
       "    <tr>\n",
       "      <th>1</th>\n",
       "      <td>5.0</td>\n",
       "      <td>1.469496e+06</td>\n",
       "      <td>10.430123</td>\n",
       "    </tr>\n",
       "    <tr>\n",
       "      <th>2</th>\n",
       "      <td>10.0</td>\n",
       "      <td>3.660601e+04</td>\n",
       "      <td>2.791388</td>\n",
       "    </tr>\n",
       "    <tr>\n",
       "      <th>3</th>\n",
       "      <td>15.0</td>\n",
       "      <td>5.574238e+03</td>\n",
       "      <td>0.425969</td>\n",
       "    </tr>\n",
       "    <tr>\n",
       "      <th>4</th>\n",
       "      <td>-5.0</td>\n",
       "      <td>8.534006e+04</td>\n",
       "      <td>1.379233</td>\n",
       "    </tr>\n",
       "    <tr>\n",
       "      <th>5</th>\n",
       "      <td>-10.0</td>\n",
       "      <td>9.239719e+03</td>\n",
       "      <td>0.502328</td>\n",
       "    </tr>\n",
       "    <tr>\n",
       "      <th>6</th>\n",
       "      <td>-15.0</td>\n",
       "      <td>2.244095e+03</td>\n",
       "      <td>0.203734</td>\n",
       "    </tr>\n",
       "  </tbody>\n",
       "</table>\n",
       "</div>"
      ],
      "text/plain": [
       "   $\\theta \\ (^\\circ)$  $f(\\theta-B)$  $N$ (1/s)\n",
       "0                  0.0   2.024969e+07  15.773602\n",
       "1                  5.0   1.469496e+06  10.430123\n",
       "2                 10.0   3.660601e+04   2.791388\n",
       "3                 15.0   5.574238e+03   0.425969\n",
       "4                 -5.0   8.534006e+04   1.379233\n",
       "5                -10.0   9.239719e+03   0.502328\n",
       "6                -15.0   2.244095e+03   0.203734"
      ]
     },
     "execution_count": 5,
     "metadata": {},
     "output_type": "execute_result"
    }
   ],
   "source": [
    "fvals = f(theta,1,1.7083)\n",
    "dataarr3 = np.array([theta,fvals, N]).T #Concatenate all into coulmn array\n",
    "df3 = pd.DataFrame(data = dataarr3,columns = [r'$\\theta \\ (^\\circ)$',r'$f(\\theta-B)$',r'$N$ (1/s)'])\n",
    "df3"
   ]
  },
  {
   "cell_type": "code",
   "execution_count": 6,
   "id": "e7f6c59e",
   "metadata": {},
   "outputs": [
    {
     "name": "stdout",
     "output_type": "stream",
     "text": [
      "A = 7.502982009653325e-05 +/- 3.0119225843482158e-06 1/s\n"
     ]
    }
   ],
   "source": [
    "#Calculation of slope A\n",
    "xi = fvals[np.where(np.abs(theta)>5)] #Select only the data points where theta = +/- 10 or +/-15 degrees\n",
    "yi = N[np.where(np.abs(theta)>5)]#Select only the data points where theta = +/- 10 or +/-15 degrees\n",
    "A = np.sum(xi*yi)/np.sum(xi*xi)\n",
    "dA = np.sqrt(1/(len(xi)-1)*np.sum((yi-A*xi)**2)/np.sum(xi*xi))\n",
    "print('A = '+str(A)+' +/- '+str(dA)+' 1/s')"
   ]
  },
  {
   "cell_type": "code",
   "execution_count": 7,
   "id": "f113bf5b",
   "metadata": {},
   "outputs": [
    {
     "data": {
      "image/png": "[encoded data removed]",
      "text/plain": [
       "<Figure size 576x576 with 1 Axes>"
      ]
     },
     "metadata": {
      "needs_background": "light"
     },
     "output_type": "display_data"
    }
   ],
   "source": [
    "#Linear fit plot\n",
    "dxi = sigmaN[np.where(np.abs(theta)>5)] #Again, select the errors corresponding to the chosen theta values\n",
    "plt.errorbar(xi, yi, xerr = dxi,fmt='o')\n",
    "plt.plot([2000,40000],[A*2000,A*40000])\n",
    "plt.grid()\n",
    "plt.gcf().set_size_inches(8,8)\n",
    "plt.xlabel(r'$f(\\theta - B)$',fontsize=15)\n",
    "plt.ylabel(r'$N(\\theta)$',fontsize=15)\n",
    "plt.title('Linear Fit to verify the slope A', fontsize=25)\n",
    "plt.text(25000,1,'A = 7.5029e-5 ± 3.0119e-6 1/s',fontsize=10)\n",
    "plt.savefig('LinearPlot')\n",
    "plt.show()"
   ]
  }
 ],
 "metadata": {
  "kernelspec": {
   "display_name": "Python 3",
   "language": "python",
   "name": "python3"
  },
  "language_info": {
   "codemirror_mode": {
    "name": "ipython",
    "version": 3
   },
   "file_extension": ".py",
   "mimetype": "text/x-python",
   "name": "python",
   "nbconvert_exporter": "python",
   "pygments_lexer": "ipython3",
   "version": "3.7.3"
  }
 },
 "nbformat": 4,
 "nbformat_minor": 5
}
